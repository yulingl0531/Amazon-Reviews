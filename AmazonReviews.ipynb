{
  "nbformat": 4,
  "nbformat_minor": 0,
  "metadata": {
    "colab": {
      "name": "AmazonReviews.ipynb",
      "provenance": [],
      "collapsed_sections": []
    },
    "kernelspec": {
      "name": "python3",
      "display_name": "Python 3"
    }
  },
  "cells": [
    {
      "cell_type": "markdown",
      "metadata": {
        "id": "B1h2rxtA2uuD",
        "colab_type": "text"
      },
      "source": [
        "# Amazon Reviews Project\n",
        "**Author: Yuling Liu**\n"
      ]
    },
    {
      "cell_type": "markdown",
      "metadata": {
        "id": "7evztYT3VVrX",
        "colab_type": "text"
      },
      "source": [
        "The dataset used in project is 100,000 Amazon product reviews, including a bag of words model, a dictionary, a column of datetimes, and star ratings. The aim is to predict star ratings (1-5).\n",
        "\n"
      ]
    },
    {
      "cell_type": "markdown",
      "metadata": {
        "id": "bMJlEmuF2xg4",
        "colab_type": "text"
      },
      "source": [
        "### 1. Import package\n",
        "\n",
        "\n",
        "\n"
      ]
    },
    {
      "cell_type": "code",
      "metadata": {
        "id": "5RuqTEOw3CSw",
        "colab_type": "code",
        "colab": {}
      },
      "source": [
        "%%capture\n",
        "!pip install -U gensim\n",
        "!pip install urllib2\n",
        "import gensim\n",
        "gensim.__version__\n",
        "# import stuff\n",
        "import numpy as np\n",
        "import pandas as pd\n",
        "import matplotlib.pyplot as plt\n",
        "import matplotlib.cm as cm\n",
        "\n",
        "from gensim import corpora\n",
        "from gensim.models import LsiModel, KeyedVectors\n",
        "from gensim.models.tfidfmodel import TfidfModel\n",
        "from gensim.models.nmf import Nmf\n",
        "\n",
        "import sklearn.model_selection as ms\n",
        "from sklearn.ensemble import RandomForestClassifier\n",
        "from sklearn.cluster import KMeans\n",
        "from sklearn.manifold import TSNE\n",
        "\n",
        "from statsmodels.tsa.stattools import adfuller\n",
        "\n",
        "from datetime import *\n",
        "from operator import itemgetter\n",
        "\n",
        "import nltk\n",
        "from nltk import classify\n",
        "from nltk import NaiveBayesClassifier\n",
        "from nltk.stem import PorterStemmer\n",
        "nltk.download('punkt')\n",
        "nltk.download('stopwords')\n",
        "nltk.download('averaged_perceptron_tagger')\n",
        "from nltk.corpus import stopwords\n",
        "from sklearn.feature_extraction.text import CountVectorizer\n",
        "\n",
        "from xgboost import XGBClassifier\n",
        "\n",
        "from sklearn import svm\n",
        "\n",
        "from sklearn.linear_model import LogisticRegression\n",
        "\n",
        "from sklearn import metrics\n",
        "\n",
        "from sklearn.preprocessing import StandardScaler\n",
        "from sklearn.neural_network import MLPClassifier\n",
        "\n",
        "import math\n",
        "from keras.models import Sequential\n",
        "from keras.layers import Dense\n",
        "from keras.layers import LSTM\n",
        "from sklearn.preprocessing import MinMaxScaler\n",
        "from sklearn.metrics import mean_squared_error\n",
        "\n",
        "from sklearn.metrics import classification_report\n",
        "\n",
        "from statsmodels.tsa.stattools import adfuller"
      ],
      "execution_count": 0,
      "outputs": []
    },
    {
      "cell_type": "code",
      "metadata": {
        "id": "X2anRAzkyfbE",
        "colab_type": "code",
        "colab": {}
      },
      "source": [
        "from pandas.plotting import autocorrelation_plot\n",
        "from statsmodels.graphics.tsaplots import plot_pacf\n",
        "from statsmodels.tsa.arima_model import ARIMA\n",
        "from statsmodels.graphics.tsaplots import plot_acf"
      ],
      "execution_count": 0,
      "outputs": []
    },
    {
      "cell_type": "code",
      "metadata": {
        "id": "kcW37bXU3gEF",
        "colab_type": "code",
        "colab": {}
      },
      "source": [
        "%%capture\n",
        "!wget https://cis.upenn.edu/~cis545/data/reviews.dict\n",
        "!wget https://cis.upenn.edu/~cis545/data/train_reviews.mm\n",
        "!wget https://cis.upenn.edu/~cis545/data/train_times.npy"
      ],
      "execution_count": 0,
      "outputs": []
    },
    {
      "cell_type": "markdown",
      "metadata": {
        "id": "yPDLP46z3kcO",
        "colab_type": "text"
      },
      "source": [
        "### 2. Download dataset"
      ]
    },
    {
      "cell_type": "code",
      "metadata": {
        "id": "bsTdBmkU3ore",
        "colab_type": "code",
        "colab": {}
      },
      "source": [
        "reviews_dict= corpora.Dictionary.load(\"reviews.dict\")\n",
        "reviews_bow = corpora.MmCorpus('train_reviews.mm')\n",
        "reviews_times  = np.load('train_times.npy')\n",
        "reviews_times.shape = (len(reviews_bow),1)\n",
        "y = np.vstack((np.repeat(1, 4000), np.repeat(2, 4000), np.repeat(3, 4000), np.repeat(4, 4000), np.repeat(5, 4000)))\n",
        "y = np.repeat(y, 5)"
      ],
      "execution_count": 0,
      "outputs": []
    },
    {
      "cell_type": "markdown",
      "metadata": {
        "id": "GHmU-Ssk4_cM",
        "colab_type": "text"
      },
      "source": [
        "### 3. Useful functions"
      ]
    },
    {
      "cell_type": "markdown",
      "metadata": {
        "id": "Dum8r0p8hbwn",
        "colab_type": "text"
      },
      "source": [
        "##### lookup_docs"
      ]
    },
    {
      "cell_type": "markdown",
      "metadata": {
        "id": "nKvbGQSdygX5",
        "colab_type": "text"
      },
      "source": [
        "Convert corpus to list\n"
      ]
    },
    {
      "cell_type": "code",
      "metadata": {
        "id": "PvtPu_G95FIK",
        "colab_type": "code",
        "colab": {}
      },
      "source": [
        "def lookup_docs(corpus, indices):\n",
        "  result=[]\n",
        "  count=0\n",
        "  for doc in corpus:\n",
        "    if count in sorted(indices):\n",
        "      result.append(doc)\n",
        "    count+=1\n",
        "  return result"
      ],
      "execution_count": 0,
      "outputs": []
    },
    {
      "cell_type": "code",
      "metadata": {
        "id": "EbcNLi_C5HXL",
        "colab_type": "code",
        "colab": {}
      },
      "source": [
        "indices = list(range(0, 100000))\n",
        "docs = lookup_docs(reviews_bow, indices)"
      ],
      "execution_count": 0,
      "outputs": []
    },
    {
      "cell_type": "markdown",
      "metadata": {
        "id": "GqntiYSdhez_",
        "colab_type": "text"
      },
      "source": [
        "##### translate_review"
      ]
    },
    {
      "cell_type": "markdown",
      "metadata": {
        "id": "H-u44GlszA7a",
        "colab_type": "text"
      },
      "source": [
        "Make reviews readable by combing the index of each word in the dictionary with the word in dictionary\n"
      ]
    },
    {
      "cell_type": "code",
      "metadata": {
        "id": "ltWx1Q5u5JXK",
        "colab_type": "code",
        "colab": {}
      },
      "source": [
        "def translate_review(review, reviews_dict):\n",
        "    result=[]\n",
        "    for elem in review:\n",
        "      for i in range(int(elem[1])):  \n",
        "        result.append(reviews_dict[elem[0]])\n",
        "    return ', '.join(result).replace(\",\", \"\")"
      ],
      "execution_count": 0,
      "outputs": []
    },
    {
      "cell_type": "markdown",
      "metadata": {
        "id": "yvQ0OGL9hja-",
        "colab_type": "text"
      },
      "source": [
        "##### convert_times"
      ]
    },
    {
      "cell_type": "markdown",
      "metadata": {
        "id": "bAuctTiwzPh6",
        "colab_type": "text"
      },
      "source": [
        "Convert original times to timestamps"
      ]
    },
    {
      "cell_type": "code",
      "metadata": {
        "id": "lHH_B8gY5PdS",
        "colab_type": "code",
        "colab": {}
      },
      "source": [
        "def convert_times(reviews_times):\n",
        "  vfunc=np.vectorize(datetime.fromtimestamp)\n",
        "  return pd.DataFrame(vfunc(reviews_times)).squeeze()"
      ],
      "execution_count": 0,
      "outputs": []
    },
    {
      "cell_type": "code",
      "metadata": {
        "id": "9JjfPLw05UWU",
        "colab_type": "code",
        "outputId": "3cb1e98a-1714-4823-bb12-28baeec0deb0",
        "colab": {
          "base_uri": "https://localhost:8080/",
          "height": 235
        }
      },
      "source": [
        "converted_times = convert_times(reviews_times)\n",
        "print(\"converted_times is a\", type(converted_times))\n",
        "converted_times"
      ],
      "execution_count": 46,
      "outputs": [
        {
          "output_type": "stream",
          "text": [
            "converted_times is a <class 'pandas.core.series.Series'>\n"
          ],
          "name": "stdout"
        },
        {
          "output_type": "execute_result",
          "data": {
            "text/plain": [
              "0       2012-05-06\n",
              "1       2014-04-07\n",
              "2       2012-07-17\n",
              "3       2014-07-14\n",
              "4       2013-05-16\n",
              "           ...    \n",
              "99995   2013-04-04\n",
              "99996   2010-09-21\n",
              "99997   2013-05-12\n",
              "99998   2013-03-05\n",
              "99999   2012-07-27\n",
              "Name: 0, Length: 100000, dtype: datetime64[ns]"
            ]
          },
          "metadata": {
            "tags": []
          },
          "execution_count": 46
        }
      ]
    },
    {
      "cell_type": "markdown",
      "metadata": {
        "id": "fjYxPifmhm4K",
        "colab_type": "text"
      },
      "source": [
        "##### make_tfidf"
      ]
    },
    {
      "cell_type": "markdown",
      "metadata": {
        "id": "iYBoG8GQzVfY",
        "colab_type": "text"
      },
      "source": [
        "Convert word count to tfidf"
      ]
    },
    {
      "cell_type": "code",
      "metadata": {
        "id": "HUcdZoCt5V3-",
        "colab_type": "code",
        "colab": {}
      },
      "source": [
        "def make_tfidf(reviews_bow):\n",
        "  model=gensim.models.tfidfmodel.TfidfModel(corpus=reviews_bow, normalize=True)\n",
        "  return model[reviews_bow]\n",
        "reviews_tfidf = make_tfidf(reviews_bow)\n",
        "result_doc=lookup_docs(reviews_tfidf, indices)"
      ],
      "execution_count": 0,
      "outputs": []
    },
    {
      "cell_type": "markdown",
      "metadata": {
        "id": "a6anWM1Qhqvn",
        "colab_type": "text"
      },
      "source": [
        "##### densify"
      ]
    },
    {
      "cell_type": "markdown",
      "metadata": {
        "id": "qTDSINouzaqB",
        "colab_type": "text"
      },
      "source": [
        "Make the original dataset densified"
      ]
    },
    {
      "cell_type": "code",
      "metadata": {
        "id": "HzH41i0x5c6S",
        "colab_type": "code",
        "colab": {}
      },
      "source": [
        "def densify(sparse, columns):\n",
        "  result=[]\n",
        "  for lst in sparse:\n",
        "    count=0\n",
        "    tmp=[]\n",
        "    for j in range(len(lst)):\n",
        "      if lst[j][0]==count:\n",
        "        tmp.append(float(lst[j][1]))\n",
        "        count+=1\n",
        "      else:\n",
        "        while(lst[j][0]!=count):\n",
        "          tmp.append(0)\n",
        "          count+=1\n",
        "        tmp.append(lst[j][1])\n",
        "        count+=1\n",
        "    result.append(tmp)\n",
        "  for n in range(len(result)):\n",
        "    for z in range(columns-len(result[n])):\n",
        "      result[n].append(0)\n",
        "  return (np.array(result))"
      ],
      "execution_count": 0,
      "outputs": []
    },
    {
      "cell_type": "markdown",
      "metadata": {
        "id": "VtJw9Fbv7Go-",
        "colab_type": "text"
      },
      "source": [
        "### 4. Random Forest with original dataset (Baseline, accuracy 0.7972)"
      ]
    },
    {
      "cell_type": "markdown",
      "metadata": {
        "id": "3eP3dgTUzf9c",
        "colab_type": "text"
      },
      "source": [
        "I used Random Forest as the baseline"
      ]
    },
    {
      "cell_type": "markdown",
      "metadata": {
        "id": "_kPuyFNSg1rn",
        "colab_type": "text"
      },
      "source": [
        "##### Train model"
      ]
    },
    {
      "cell_type": "code",
      "metadata": {
        "id": "Vcf9DvIz7IhC",
        "colab_type": "code",
        "colab": {}
      },
      "source": [
        "def evaluate_model(X, review_times, y):\n",
        "    X = np.hstack((X, review_times))\n",
        "    X_train, X_test, y_train, y_test = ms.train_test_split(X, y, test_size=0.2, random_state = 1911)\n",
        "    rfor = RandomForestClassifier(n_estimators=70, random_state=1911)\n",
        "    rfor.fit(X_train, y_train)\n",
        "    pred=rfor.predict(X_test)\n",
        "    return metrics.accuracy_score(y_test, pred), y_test, pred"
      ],
      "execution_count": 0,
      "outputs": []
    },
    {
      "cell_type": "code",
      "metadata": {
        "id": "RbRv1Bz87UPJ",
        "colab_type": "code",
        "colab": {}
      },
      "source": [
        "def evaluate_cutoffs(X_orig, X_dict, X_times, y, cutoffs):\n",
        "    results = []\n",
        "    for cutoff in cutoffs:\n",
        "        np.random.seed(1911)\n",
        "        model=LsiModel(X_orig, num_topics=cutoff, id2word=X_dict)\n",
        "        trans=model[X_orig]   # right singular vectors\n",
        "        dense_trans=densify(trans, cutoff)\n",
        "        results.append(evaluate_model(dense_trans, X_times, y)[0])\n",
        "        y_true = evaluate_model(dense_trans, X_times, y)[1]\n",
        "        y_pred = evaluate_model(dense_trans, X_times, y)[2]\n",
        "        target_names = ['1 star', '2 stars', '3 stars', '4 stars', '5 stars']\n",
        "        print(metrics.classification_report(y_true, y_pred, target_names=target_names))\n",
        "    return results"
      ],
      "execution_count": 0,
      "outputs": []
    },
    {
      "cell_type": "markdown",
      "metadata": {
        "id": "nTWA-Pwlg8hY",
        "colab_type": "text"
      },
      "source": [
        "##### Result"
      ]
    },
    {
      "cell_type": "markdown",
      "metadata": {
        "id": "6hYr_DjqrB_J",
        "colab_type": "text"
      },
      "source": [
        "In order to see how the accuracy is like for each star rating, I also printed out the classification report.\n",
        "\n",
        "It seems like 1 star has the best accuracy. The accuracy 3-5 stars' ratings is lower. \n"
      ]
    },
    {
      "cell_type": "markdown",
      "metadata": {
        "id": "iiFw31g_lXbX",
        "colab_type": "text"
      },
      "source": [
        "The result is around 0.7972"
      ]
    },
    {
      "cell_type": "code",
      "metadata": {
        "id": "u7nsLVva7W9S",
        "colab_type": "code",
        "outputId": "22501091-b162-46ce-9e78-7dfe6dd98171",
        "colab": {
          "base_uri": "https://localhost:8080/",
          "height": 235
        }
      },
      "source": [
        "results = evaluate_cutoffs(reviews_tfidf, reviews_dict, reviews_times, y, range(37,38))\n",
        "display(results)"
      ],
      "execution_count": 51,
      "outputs": [
        {
          "output_type": "stream",
          "text": [
            "              precision    recall  f1-score   support\n",
            "\n",
            "      1 star       0.91      0.80      0.85      3951\n",
            "     2 stars       0.83      0.81      0.82      4040\n",
            "     3 stars       0.78      0.87      0.82      3989\n",
            "     4 stars       0.73      0.73      0.73      4006\n",
            "     5 stars       0.76      0.77      0.77      4014\n",
            "\n",
            "    accuracy                           0.80     20000\n",
            "   macro avg       0.80      0.80      0.80     20000\n",
            "weighted avg       0.80      0.80      0.80     20000\n",
            "\n"
          ],
          "name": "stdout"
        },
        {
          "output_type": "display_data",
          "data": {
            "text/plain": [
              "[0.7972]"
            ]
          },
          "metadata": {
            "tags": []
          }
        }
      ]
    },
    {
      "cell_type": "markdown",
      "metadata": {
        "id": "A7RfrK195vAY",
        "colab_type": "text"
      },
      "source": [
        "### 5. Random Forest with changed weights (accuracy 0.79115)\n"
      ]
    },
    {
      "cell_type": "markdown",
      "metadata": {
        "id": "FhCTNS4Mb2qZ",
        "colab_type": "text"
      },
      "source": [
        "If I can get the most important words (most frequent words maybe?) and add their weights manually, would the results be better? "
      ]
    },
    {
      "cell_type": "markdown",
      "metadata": {
        "id": "aCh5J0mkAxwk",
        "colab_type": "text"
      },
      "source": [
        "##### Finding the most frequent words"
      ]
    },
    {
      "cell_type": "code",
      "metadata": {
        "id": "NBTgUPk85_ow",
        "colab_type": "code",
        "colab": {}
      },
      "source": [
        "def most_freq_words(docs, start, end):\n",
        "  word={}\n",
        "  for llst in docs[start:end]:\n",
        "    for ttup in llst:\n",
        "      if ttup[0] not in word:\n",
        "        word[ttup[0]]=ttup[1]\n",
        "      else:\n",
        "        word[ttup[0]]+=ttup[1]\n",
        "\n",
        "\n",
        "  word_max=[(k, word[k]) for k in sorted(word, key=word.get, reverse=True)]\n",
        "\n",
        "  wd_max=[]\n",
        "  wd_max_freq=[]\n",
        "  for elem in word_max[0:30]:\n",
        "    wd_max.append( (reviews_dict[elem[0]]) )\n",
        "    wd_max_freq.append(elem[1])\n",
        "  return wd_max, wd_max_freq\n",
        "\n",
        "most_one=most_freq_words(docs, 0, 20000)\n",
        "most_two=most_freq_words(docs, 20000, 40000)\n",
        "most_three=most_freq_words(docs, 40000, 60000)\n",
        "most_four=most_freq_words(docs, 60000, 80000)\n",
        "most_five=most_freq_words(docs, 80000, 100000)\n",
        "\n",
        "most_bad=most_freq_words(docs, 0, 40000)\n",
        "most_good=most_freq_words(docs, 60000, 100000)\n",
        "\n",
        "#for 1 star, maybe like is dislike? no way to know\n",
        "#maybe add negative weight to ones with words like dog cat??"
      ],
      "execution_count": 0,
      "outputs": []
    },
    {
      "cell_type": "markdown",
      "metadata": {
        "id": "3RTCCe_RRRkc",
        "colab_type": "text"
      },
      "source": [
        "##### Where are the data coming from?"
      ]
    },
    {
      "cell_type": "markdown",
      "metadata": {
        "id": "2QmcGe5qPHpM",
        "colab_type": "text"
      },
      "source": [
        "Given the output of the most frequent words of each star rating, it seems like data of **star rating 1** are from **pet food**, **star rating 2** are from **baby products**, **star rating 3** are from **shoes**, **star rating 4** are from **kitchen products**, **star rating 5** are from clearning products."
      ]
    },
    {
      "cell_type": "code",
      "metadata": {
        "id": "I5RUV4mUNq32",
        "colab_type": "code",
        "outputId": "23fa4162-b6f9-44e5-f23c-548a88019e52",
        "colab": {
          "base_uri": "https://localhost:8080/",
          "height": 935
        }
      },
      "source": [
        "#convert frequent words into dataframe\n",
        "freq_word_df=pd.DataFrame(\n",
        "    {'1 star': most_one[0],\n",
        "     '2 stars': most_two[0],\n",
        "     '3 stars': most_three[0],\n",
        "     '4 stars': most_four[0],\n",
        "     '5 stars': most_five[0]\n",
        "    })\n",
        "freq_word_df"
      ],
      "execution_count": 53,
      "outputs": [
        {
          "output_type": "execute_result",
          "data": {
            "text/html": [
              "<div>\n",
              "<style scoped>\n",
              "    .dataframe tbody tr th:only-of-type {\n",
              "        vertical-align: middle;\n",
              "    }\n",
              "\n",
              "    .dataframe tbody tr th {\n",
              "        vertical-align: top;\n",
              "    }\n",
              "\n",
              "    .dataframe thead th {\n",
              "        text-align: right;\n",
              "    }\n",
              "</style>\n",
              "<table border=\"1\" class=\"dataframe\">\n",
              "  <thead>\n",
              "    <tr style=\"text-align: right;\">\n",
              "      <th></th>\n",
              "      <th>1 star</th>\n",
              "      <th>2 stars</th>\n",
              "      <th>3 stars</th>\n",
              "      <th>4 stars</th>\n",
              "      <th>5 stars</th>\n",
              "    </tr>\n",
              "  </thead>\n",
              "  <tbody>\n",
              "    <tr>\n",
              "      <th>0</th>\n",
              "      <td>dog</td>\n",
              "      <td>use</td>\n",
              "      <td>size</td>\n",
              "      <td>use</td>\n",
              "      <td>use</td>\n",
              "    </tr>\n",
              "    <tr>\n",
              "      <th>1</th>\n",
              "      <td>cat</td>\n",
              "      <td>babi</td>\n",
              "      <td>like</td>\n",
              "      <td>one</td>\n",
              "      <td>product</td>\n",
              "    </tr>\n",
              "    <tr>\n",
              "      <th>2</th>\n",
              "      <td>one</td>\n",
              "      <td>one</td>\n",
              "      <td>look</td>\n",
              "      <td>like</td>\n",
              "      <td>like</td>\n",
              "    </tr>\n",
              "    <tr>\n",
              "      <th>3</th>\n",
              "      <td>like</td>\n",
              "      <td>like</td>\n",
              "      <td>fit</td>\n",
              "      <td>get</td>\n",
              "      <td>one</td>\n",
              "    </tr>\n",
              "    <tr>\n",
              "      <th>4</th>\n",
              "      <td>use</td>\n",
              "      <td>get</td>\n",
              "      <td>wear</td>\n",
              "      <td>work</td>\n",
              "      <td>work</td>\n",
              "    </tr>\n",
              "    <tr>\n",
              "      <th>5</th>\n",
              "      <td>get</td>\n",
              "      <td>just</td>\n",
              "      <td>shoe</td>\n",
              "      <td>just</td>\n",
              "      <td>get</td>\n",
              "    </tr>\n",
              "    <tr>\n",
              "      <th>6</th>\n",
              "      <td>just</td>\n",
              "      <td>can</td>\n",
              "      <td>just</td>\n",
              "      <td>will</td>\n",
              "      <td>just</td>\n",
              "    </tr>\n",
              "    <tr>\n",
              "      <th>7</th>\n",
              "      <td>will</td>\n",
              "      <td>work</td>\n",
              "      <td>one</td>\n",
              "      <td>good</td>\n",
              "      <td>tri</td>\n",
              "    </tr>\n",
              "    <tr>\n",
              "      <th>8</th>\n",
              "      <td>food</td>\n",
              "      <td>seat</td>\n",
              "      <td>order</td>\n",
              "      <td>can</td>\n",
              "      <td>good</td>\n",
              "    </tr>\n",
              "    <tr>\n",
              "      <th>9</th>\n",
              "      <td>product</td>\n",
              "      <td>love</td>\n",
              "      <td>will</td>\n",
              "      <td>well</td>\n",
              "      <td>will</td>\n",
              "    </tr>\n",
              "    <tr>\n",
              "      <th>10</th>\n",
              "      <td>work</td>\n",
              "      <td>time</td>\n",
              "      <td>good</td>\n",
              "      <td>fit</td>\n",
              "      <td>take</td>\n",
              "    </tr>\n",
              "    <tr>\n",
              "      <th>11</th>\n",
              "      <td>can</td>\n",
              "      <td>realli</td>\n",
              "      <td>get</td>\n",
              "      <td>time</td>\n",
              "      <td>can</td>\n",
              "    </tr>\n",
              "    <tr>\n",
              "      <th>12</th>\n",
              "      <td>toy</td>\n",
              "      <td>month</td>\n",
              "      <td>great</td>\n",
              "      <td>great</td>\n",
              "      <td>time</td>\n",
              "    </tr>\n",
              "    <tr>\n",
              "      <th>13</th>\n",
              "      <td>love</td>\n",
              "      <td>great</td>\n",
              "      <td>love</td>\n",
              "      <td>look</td>\n",
              "      <td>realli</td>\n",
              "    </tr>\n",
              "    <tr>\n",
              "      <th>14</th>\n",
              "      <td>time</td>\n",
              "      <td>will</td>\n",
              "      <td>realli</td>\n",
              "      <td>product</td>\n",
              "      <td>well</td>\n",
              "    </tr>\n",
              "    <tr>\n",
              "      <th>15</th>\n",
              "      <td>tri</td>\n",
              "      <td>littl</td>\n",
              "      <td>comfort</td>\n",
              "      <td>make</td>\n",
              "      <td>day</td>\n",
              "    </tr>\n",
              "    <tr>\n",
              "      <th>16</th>\n",
              "      <td>good</td>\n",
              "      <td>bottl</td>\n",
              "      <td>color</td>\n",
              "      <td>knife</td>\n",
              "      <td>much</td>\n",
              "    </tr>\n",
              "    <tr>\n",
              "      <th>17</th>\n",
              "      <td>well</td>\n",
              "      <td>also</td>\n",
              "      <td>well</td>\n",
              "      <td>need</td>\n",
              "      <td>make</td>\n",
              "    </tr>\n",
              "    <tr>\n",
              "      <th>18</th>\n",
              "      <td>realli</td>\n",
              "      <td>much</td>\n",
              "      <td>small</td>\n",
              "      <td>go</td>\n",
              "      <td>also</td>\n",
              "    </tr>\n",
              "    <tr>\n",
              "      <th>19</th>\n",
              "      <td>treat</td>\n",
              "      <td>well</td>\n",
              "      <td>nice</td>\n",
              "      <td>realli</td>\n",
              "      <td>better</td>\n",
              "    </tr>\n",
              "    <tr>\n",
              "      <th>20</th>\n",
              "      <td>much</td>\n",
              "      <td>put</td>\n",
              "      <td>littl</td>\n",
              "      <td>much</td>\n",
              "      <td>feel</td>\n",
              "    </tr>\n",
              "    <tr>\n",
              "      <th>21</th>\n",
              "      <td>littl</td>\n",
              "      <td>make</td>\n",
              "      <td>bought</td>\n",
              "      <td>littl</td>\n",
              "      <td>need</td>\n",
              "    </tr>\n",
              "    <tr>\n",
              "      <th>22</th>\n",
              "      <td>seem</td>\n",
              "      <td>product</td>\n",
              "      <td>time</td>\n",
              "      <td>also</td>\n",
              "      <td>great</td>\n",
              "    </tr>\n",
              "    <tr>\n",
              "      <th>23</th>\n",
              "      <td>even</td>\n",
              "      <td>tri</td>\n",
              "      <td>pair</td>\n",
              "      <td>even</td>\n",
              "      <td>go</td>\n",
              "    </tr>\n",
              "    <tr>\n",
              "      <th>24</th>\n",
              "      <td>make</td>\n",
              "      <td>fit</td>\n",
              "      <td>use</td>\n",
              "      <td>better</td>\n",
              "      <td>even</td>\n",
              "    </tr>\n",
              "    <tr>\n",
              "      <th>25</th>\n",
              "      <td>great</td>\n",
              "      <td>good</td>\n",
              "      <td>buy</td>\n",
              "      <td>back</td>\n",
              "      <td>help</td>\n",
              "    </tr>\n",
              "    <tr>\n",
              "      <th>26</th>\n",
              "      <td>go</td>\n",
              "      <td>diaper</td>\n",
              "      <td>return</td>\n",
              "      <td>light</td>\n",
              "      <td>shave</td>\n",
              "    </tr>\n",
              "    <tr>\n",
              "      <th>27</th>\n",
              "      <td>litter</td>\n",
              "      <td>look</td>\n",
              "      <td>can</td>\n",
              "      <td>buy</td>\n",
              "      <td>littl</td>\n",
              "    </tr>\n",
              "    <tr>\n",
              "      <th>28</th>\n",
              "      <td>also</td>\n",
              "      <td>even</td>\n",
              "      <td>even</td>\n",
              "      <td>made</td>\n",
              "      <td>clean</td>\n",
              "    </tr>\n",
              "    <tr>\n",
              "      <th>29</th>\n",
              "      <td>day</td>\n",
              "      <td>old</td>\n",
              "      <td>back</td>\n",
              "      <td>tri</td>\n",
              "      <td>seem</td>\n",
              "    </tr>\n",
              "  </tbody>\n",
              "</table>\n",
              "</div>"
            ],
            "text/plain": [
              "     1 star  2 stars  3 stars  4 stars  5 stars\n",
              "0       dog      use     size      use      use\n",
              "1       cat     babi     like      one  product\n",
              "2       one      one     look     like     like\n",
              "3      like     like      fit      get      one\n",
              "4       use      get     wear     work     work\n",
              "5       get     just     shoe     just      get\n",
              "6      just      can     just     will     just\n",
              "7      will     work      one     good      tri\n",
              "8      food     seat    order      can     good\n",
              "9   product     love     will     well     will\n",
              "10     work     time     good      fit     take\n",
              "11      can   realli      get     time      can\n",
              "12      toy    month    great    great     time\n",
              "13     love    great     love     look   realli\n",
              "14     time     will   realli  product     well\n",
              "15      tri    littl  comfort     make      day\n",
              "16     good    bottl    color    knife     much\n",
              "17     well     also     well     need     make\n",
              "18   realli     much    small       go     also\n",
              "19    treat     well     nice   realli   better\n",
              "20     much      put    littl     much     feel\n",
              "21    littl     make   bought    littl     need\n",
              "22     seem  product     time     also    great\n",
              "23     even      tri     pair     even       go\n",
              "24     make      fit      use   better     even\n",
              "25    great     good      buy     back     help\n",
              "26       go   diaper   return    light    shave\n",
              "27   litter     look      can      buy    littl\n",
              "28     also     even     even     made    clean\n",
              "29      day      old     back      tri     seem"
            ]
          },
          "metadata": {
            "tags": []
          },
          "execution_count": 53
        }
      ]
    },
    {
      "cell_type": "code",
      "metadata": {
        "id": "LUOyrJ04OYyw",
        "colab_type": "code",
        "outputId": "69de4ff2-6fc1-4b10-dca8-f3648527bb58",
        "colab": {
          "base_uri": "https://localhost:8080/",
          "height": 935
        }
      },
      "source": [
        "#convert best (4-5 stars) and worst (1-2 stars) to dataframe\n",
        "worst_best_df=pd.DataFrame(\n",
        "    {'best ratings (4-5 stars)': most_good[0],\n",
        "     'worst ratings (1-2 stars)': most_bad[0]\n",
        "    })\n",
        "worst_best_df"
      ],
      "execution_count": 54,
      "outputs": [
        {
          "output_type": "execute_result",
          "data": {
            "text/html": [
              "<div>\n",
              "<style scoped>\n",
              "    .dataframe tbody tr th:only-of-type {\n",
              "        vertical-align: middle;\n",
              "    }\n",
              "\n",
              "    .dataframe tbody tr th {\n",
              "        vertical-align: top;\n",
              "    }\n",
              "\n",
              "    .dataframe thead th {\n",
              "        text-align: right;\n",
              "    }\n",
              "</style>\n",
              "<table border=\"1\" class=\"dataframe\">\n",
              "  <thead>\n",
              "    <tr style=\"text-align: right;\">\n",
              "      <th></th>\n",
              "      <th>best ratings (4-5 stars)</th>\n",
              "      <th>worst ratings (1-2 stars)</th>\n",
              "    </tr>\n",
              "  </thead>\n",
              "  <tbody>\n",
              "    <tr>\n",
              "      <th>0</th>\n",
              "      <td>use</td>\n",
              "      <td>use</td>\n",
              "    </tr>\n",
              "    <tr>\n",
              "      <th>1</th>\n",
              "      <td>one</td>\n",
              "      <td>one</td>\n",
              "    </tr>\n",
              "    <tr>\n",
              "      <th>2</th>\n",
              "      <td>like</td>\n",
              "      <td>like</td>\n",
              "    </tr>\n",
              "    <tr>\n",
              "      <th>3</th>\n",
              "      <td>work</td>\n",
              "      <td>dog</td>\n",
              "    </tr>\n",
              "    <tr>\n",
              "      <th>4</th>\n",
              "      <td>get</td>\n",
              "      <td>get</td>\n",
              "    </tr>\n",
              "    <tr>\n",
              "      <th>5</th>\n",
              "      <td>product</td>\n",
              "      <td>just</td>\n",
              "    </tr>\n",
              "    <tr>\n",
              "      <th>6</th>\n",
              "      <td>just</td>\n",
              "      <td>can</td>\n",
              "    </tr>\n",
              "    <tr>\n",
              "      <th>7</th>\n",
              "      <td>will</td>\n",
              "      <td>babi</td>\n",
              "    </tr>\n",
              "    <tr>\n",
              "      <th>8</th>\n",
              "      <td>good</td>\n",
              "      <td>cat</td>\n",
              "    </tr>\n",
              "    <tr>\n",
              "      <th>9</th>\n",
              "      <td>can</td>\n",
              "      <td>work</td>\n",
              "    </tr>\n",
              "    <tr>\n",
              "      <th>10</th>\n",
              "      <td>time</td>\n",
              "      <td>will</td>\n",
              "    </tr>\n",
              "    <tr>\n",
              "      <th>11</th>\n",
              "      <td>well</td>\n",
              "      <td>love</td>\n",
              "    </tr>\n",
              "    <tr>\n",
              "      <th>12</th>\n",
              "      <td>tri</td>\n",
              "      <td>time</td>\n",
              "    </tr>\n",
              "    <tr>\n",
              "      <th>13</th>\n",
              "      <td>take</td>\n",
              "      <td>product</td>\n",
              "    </tr>\n",
              "    <tr>\n",
              "      <th>14</th>\n",
              "      <td>great</td>\n",
              "      <td>realli</td>\n",
              "    </tr>\n",
              "    <tr>\n",
              "      <th>15</th>\n",
              "      <td>realli</td>\n",
              "      <td>great</td>\n",
              "    </tr>\n",
              "    <tr>\n",
              "      <th>16</th>\n",
              "      <td>make</td>\n",
              "      <td>tri</td>\n",
              "    </tr>\n",
              "    <tr>\n",
              "      <th>17</th>\n",
              "      <td>much</td>\n",
              "      <td>littl</td>\n",
              "    </tr>\n",
              "    <tr>\n",
              "      <th>18</th>\n",
              "      <td>need</td>\n",
              "      <td>well</td>\n",
              "    </tr>\n",
              "    <tr>\n",
              "      <th>19</th>\n",
              "      <td>look</td>\n",
              "      <td>toy</td>\n",
              "    </tr>\n",
              "    <tr>\n",
              "      <th>20</th>\n",
              "      <td>also</td>\n",
              "      <td>much</td>\n",
              "    </tr>\n",
              "    <tr>\n",
              "      <th>21</th>\n",
              "      <td>go</td>\n",
              "      <td>good</td>\n",
              "    </tr>\n",
              "    <tr>\n",
              "      <th>22</th>\n",
              "      <td>better</td>\n",
              "      <td>also</td>\n",
              "    </tr>\n",
              "    <tr>\n",
              "      <th>23</th>\n",
              "      <td>even</td>\n",
              "      <td>make</td>\n",
              "    </tr>\n",
              "    <tr>\n",
              "      <th>24</th>\n",
              "      <td>littl</td>\n",
              "      <td>month</td>\n",
              "    </tr>\n",
              "    <tr>\n",
              "      <th>25</th>\n",
              "      <td>day</td>\n",
              "      <td>food</td>\n",
              "    </tr>\n",
              "    <tr>\n",
              "      <th>26</th>\n",
              "      <td>buy</td>\n",
              "      <td>even</td>\n",
              "    </tr>\n",
              "    <tr>\n",
              "      <th>27</th>\n",
              "      <td>back</td>\n",
              "      <td>put</td>\n",
              "    </tr>\n",
              "    <tr>\n",
              "      <th>28</th>\n",
              "      <td>fit</td>\n",
              "      <td>go</td>\n",
              "    </tr>\n",
              "    <tr>\n",
              "      <th>29</th>\n",
              "      <td>thing</td>\n",
              "      <td>look</td>\n",
              "    </tr>\n",
              "  </tbody>\n",
              "</table>\n",
              "</div>"
            ],
            "text/plain": [
              "   best ratings (4-5 stars) worst ratings (1-2 stars)\n",
              "0                       use                       use\n",
              "1                       one                       one\n",
              "2                      like                      like\n",
              "3                      work                       dog\n",
              "4                       get                       get\n",
              "5                   product                      just\n",
              "6                      just                       can\n",
              "7                      will                      babi\n",
              "8                      good                       cat\n",
              "9                       can                      work\n",
              "10                     time                      will\n",
              "11                     well                      love\n",
              "12                      tri                      time\n",
              "13                     take                   product\n",
              "14                    great                    realli\n",
              "15                   realli                     great\n",
              "16                     make                       tri\n",
              "17                     much                     littl\n",
              "18                     need                      well\n",
              "19                     look                       toy\n",
              "20                     also                      much\n",
              "21                       go                      good\n",
              "22                   better                      also\n",
              "23                     even                      make\n",
              "24                    littl                     month\n",
              "25                      day                      food\n",
              "26                      buy                      even\n",
              "27                     back                       put\n",
              "28                      fit                        go\n",
              "29                    thing                      look"
            ]
          },
          "metadata": {
            "tags": []
          },
          "execution_count": 54
        }
      ]
    },
    {
      "cell_type": "markdown",
      "metadata": {
        "id": "y-tlIwtcXrYt",
        "colab_type": "text"
      },
      "source": [
        "##### Frequency of worst ratings (1-2 stars)"
      ]
    },
    {
      "cell_type": "markdown",
      "metadata": {
        "id": "R7kU7JwSZkhc",
        "colab_type": "text"
      },
      "source": [
        "Since each star rating is coming from a specific product, the results are not what I expected. \n",
        "\n",
        "I would assume that bad ratings have a lot of bad descriptions so ther would be many negative words in the reviews. However, in this case, it might be more useful to only extract the adjectives to see which words are really more important. I will do that in the next step."
      ]
    },
    {
      "cell_type": "code",
      "metadata": {
        "id": "lAk-gaQf6H85",
        "colab_type": "code",
        "outputId": "f842c07d-67ff-4974-e6a0-5ea9f218f803",
        "colab": {
          "base_uri": "https://localhost:8080/",
          "height": 394
        }
      },
      "source": [
        "fig_bad=plt.plot(most_bad[0], most_bad[1])\n",
        "fig_bad=plt.gcf()\n",
        "fig_bad.set_size_inches(24, 6) "
      ],
      "execution_count": 55,
      "outputs": [
        {
          "output_type": "display_data",
          "data": {
            "image/png": "[encoded data removed]",
            "text/plain": [
              "<Figure size 1728x432 with 1 Axes>"
            ]
          },
          "metadata": {
            "tags": []
          }
        }
      ]
    },
    {
      "cell_type": "markdown",
      "metadata": {
        "id": "K4WfIyE7X3DX",
        "colab_type": "text"
      },
      "source": [
        "##### Frequency of best ratings (4-5 stars)"
      ]
    },
    {
      "cell_type": "code",
      "metadata": {
        "id": "Mc1z9IYCX8yy",
        "colab_type": "code",
        "outputId": "9c5e2aff-c18e-4861-9300-695281d2d1f6",
        "colab": {
          "base_uri": "https://localhost:8080/",
          "height": 374
        }
      },
      "source": [
        "fig_good=plt.plot(most_good[0], most_good[1])\n",
        "fig_good=plt.gcf()\n",
        "fig_good.set_size_inches(15, 6)"
      ],
      "execution_count": 56,
      "outputs": [
        {
          "output_type": "display_data",
          "data": {
            "image/png": "[encoded data removed]",
            "text/plain": [
              "<Figure size 1080x432 with 1 Axes>"
            ]
          },
          "metadata": {
            "tags": []
          }
        }
      ]
    },
    {
      "cell_type": "markdown",
      "metadata": {
        "id": "Bhjxyx2FYUph",
        "colab_type": "text"
      },
      "source": [
        "##### Changing the weights of the words of worst ratings and best ratings "
      ]
    },
    {
      "cell_type": "code",
      "metadata": {
        "id": "RrkS8ttq6NxN",
        "colab_type": "code",
        "colab": {
          "base_uri": "https://localhost:8080/",
          "height": 84
        },
        "outputId": "df475ed4-60db-4326-b68a-ee503f716c8a"
      },
      "source": [
        "same_words=[]\n",
        "for word in most_good[0]:\n",
        "  for word2 in most_bad[0]:\n",
        "    if word==word2:\n",
        "      same_words.append(word)\n",
        "same_words\n",
        "\n",
        "\n",
        "only_good=[]\n",
        "for word3 in most_good[0]:\n",
        "  if word3 not in same_words:\n",
        "    only_good.append(word3)\n",
        "\n",
        "print(only_good)\n",
        "\n",
        "only_bad=[]\n",
        "for word4 in most_bad[0]:\n",
        "  if word4 not in same_words:\n",
        "    only_bad.append(word4)\n",
        "\n",
        "print(only_bad)\n",
        "\n",
        "def getID(words):\n",
        "  result=[]\n",
        "  for word in words:\n",
        "    result.append(reviews_dict.token2id[word])\n",
        "  return result\n",
        "\n",
        "only_good_id=getID(only_good)\n",
        "only_bad_id=getID(only_bad)\n",
        "print(only_good_id)\n",
        "print(only_bad_id)"
      ],
      "execution_count": 57,
      "outputs": [
        {
          "output_type": "stream",
          "text": [
            "['take', 'need', 'better', 'day', 'buy', 'back', 'fit', 'thing']\n",
            "['dog', 'babi', 'cat', 'love', 'toy', 'month', 'food', 'put']\n",
            "[177, 275, 7, 58, 329, 325, 625, 233]\n",
            "[60, 1505, 266, 486, 50, 171, 315, 70]\n"
          ],
          "name": "stdout"
        }
      ]
    },
    {
      "cell_type": "markdown",
      "metadata": {
        "id": "XK12mE5BYDEX",
        "colab_type": "text"
      },
      "source": [
        "I tried weights like +0.2, +0.8, +1, +10 and found that +0.8 weights of these frequent words has the best results. "
      ]
    },
    {
      "cell_type": "code",
      "metadata": {
        "id": "7EIv6iiQ6WwW",
        "colab_type": "code",
        "colab": {
          "base_uri": "https://localhost:8080/",
          "height": 70
        },
        "outputId": "56136144-0896-448c-95ed-a18af6d85a90"
      },
      "source": [
        "0print(result_doc[0])\n",
        "def increase_weight(docs):\n",
        "  result=[]\n",
        "  for lst in docs:\n",
        "    tmp=[]\n",
        "    for tup in lst:\n",
        "      if tup[0] in [19, 20, 420, 492, 85, 852, 277, 169, 1692]:\n",
        "      #if (tup[0] in only_bad_id) or (tup[0] in only_good_id):\n",
        "        tmp.append((tup[0], tup[1]+0.8))\n",
        "      else:\n",
        "        tmp.append((tup[0], tup[1]))\n",
        "    result.append(tmp)\n",
        "  return result\n",
        "\n",
        "result_doc=increase_weight(result_doc)\n",
        "print(result_doc[0])"
      ],
      "execution_count": 58,
      "outputs": [
        {
          "output_type": "stream",
          "text": [
            "[(0, 0.0660034180373639), (1, 0.12360093748348407), (2, 0.0407796613402426), (3, 0.15992050393599033), (4, 0.15541949979737957), (5, 0.06403024792327237), (6, 0.4183486031794299), (7, 0.045007373378449185), (8, 0.18913727393566332), (9, 0.06641339282532265), (10, 0.10413115494146216), (11, 0.10825486685420439), (12, 0.15525820361308584), (13, 0.06519736368026895), (14, 0.2067794919463751), (15, 0.06590094883325925), (16, 0.1158324947414227), (17, 0.08493483571495053), (18, 0.08755539750744058), (19, 0.0338354240398617), (20, 0.03669439920511), (21, 0.057670953991595504), (22, 0.07051020376459982), (23, 0.028157675316733372), (24, 0.44250466469710886), (25, 0.06111733364998563), (26, 0.17050232085388733), (27, 0.07454444489391773), (28, 0.040576679631273434), (29, 0.17164557258925867), (30, 0.08175891731909864), (31, 0.05823720551567898), (32, 0.039456211128453836), (33, 0.062362256150244405), (34, 0.20042926732827837), (35, 0.06911419139133088), (36, 0.07004236227439306), (37, 0.08512893119465233), (38, 0.10131103982965058), (39, 0.07020312783143096), (40, 0.054835298970454534), (41, 0.10416136407573433), (42, 0.09152059343376004), (43, 0.11805739848444578), (44, 0.21346240190401625), (45, 0.13526763894677227), (46, 0.25275317994767066), (47, 0.04714735629324888), (48, 0.06651339316310378), (49, 0.12262981745574256), (50, 0.06285727643778377), (51, 0.03892170440717207), (52, 0.0732471238083884), (53, 0.07066850175856085), (54, 0.10446587570116538), (55, 0.06566548092963939)]\n",
            "[(0, 0.0660034180373639), (1, 0.12360093748348407), (2, 0.0407796613402426), (3, 0.15992050393599033), (4, 0.15541949979737957), (5, 0.06403024792327237), (6, 0.4183486031794299), (7, 0.045007373378449185), (8, 0.18913727393566332), (9, 0.06641339282532265), (10, 0.10413115494146216), (11, 0.10825486685420439), (12, 0.15525820361308584), (13, 0.06519736368026895), (14, 0.2067794919463751), (15, 0.06590094883325925), (16, 0.1158324947414227), (17, 0.08493483571495053), (18, 0.08755539750744058), (19, 0.8338354240398618), (20, 0.83669439920511), (21, 0.057670953991595504), (22, 0.07051020376459982), (23, 0.028157675316733372), (24, 0.44250466469710886), (25, 0.06111733364998563), (26, 0.17050232085388733), (27, 0.07454444489391773), (28, 0.040576679631273434), (29, 0.17164557258925867), (30, 0.08175891731909864), (31, 0.05823720551567898), (32, 0.039456211128453836), (33, 0.062362256150244405), (34, 0.20042926732827837), (35, 0.06911419139133088), (36, 0.07004236227439306), (37, 0.08512893119465233), (38, 0.10131103982965058), (39, 0.07020312783143096), (40, 0.054835298970454534), (41, 0.10416136407573433), (42, 0.09152059343376004), (43, 0.11805739848444578), (44, 0.21346240190401625), (45, 0.13526763894677227), (46, 0.25275317994767066), (47, 0.04714735629324888), (48, 0.06651339316310378), (49, 0.12262981745574256), (50, 0.06285727643778377), (51, 0.03892170440717207), (52, 0.0732471238083884), (53, 0.07066850175856085), (54, 0.10446587570116538), (55, 0.06566548092963939)]\n"
          ],
          "name": "stdout"
        }
      ]
    },
    {
      "cell_type": "markdown",
      "metadata": {
        "id": "KCNx33h2AsbJ",
        "colab_type": "text"
      },
      "source": [
        "##### Train model"
      ]
    },
    {
      "cell_type": "code",
      "metadata": {
        "id": "TrP5kVkK6msu",
        "colab_type": "code",
        "colab": {}
      },
      "source": [
        "def evaluate_model(X, review_times, y):\n",
        "    X = np.hstack((X, review_times))\n",
        "    X_train, X_test, y_train, y_test = ms.train_test_split(X, y, test_size=0.2, random_state = 1911)\n",
        "    rfor = RandomForestClassifier(n_estimators=70, random_state=1911)\n",
        "    rfor.fit(X_train, y_train)\n",
        "    pred=rfor.predict(X_test)\n",
        "    return metrics.accuracy_score(y_test, pred)\n",
        "\n",
        "def evaluate_cutoffs(X_orig, X_dict, X_times, y, cutoffs):\n",
        "    results = []\n",
        "    for cutoff in cutoffs:\n",
        "        np.random.seed(1911)\n",
        "        model=LsiModel(X_orig, num_topics=cutoff, id2word=X_dict)\n",
        "        trans=model[X_orig]   # right singular vectors\n",
        "        dense_trans=densify(trans, cutoff)\n",
        "        results.append(evaluate_model(dense_trans, X_times, y))\n",
        "    return results"
      ],
      "execution_count": 0,
      "outputs": []
    },
    {
      "cell_type": "markdown",
      "metadata": {
        "id": "orl3AVZFhB5P",
        "colab_type": "text"
      },
      "source": [
        "##### Result"
      ]
    },
    {
      "cell_type": "code",
      "metadata": {
        "id": "XqLycjOL64EF",
        "colab_type": "code",
        "colab": {
          "base_uri": "https://localhost:8080/",
          "height": 34
        },
        "outputId": "466eac17-4ca5-42be-9096-693df3014524"
      },
      "source": [
        "results=evaluate_cutoffs(result_doc, reviews_dict, reviews_times, y, range(39,40))\n",
        "display(results)"
      ],
      "execution_count": 60,
      "outputs": [
        {
          "output_type": "display_data",
          "data": {
            "text/plain": [
              "[0.79115]"
            ]
          },
          "metadata": {
            "tags": []
          }
        }
      ]
    },
    {
      "cell_type": "markdown",
      "metadata": {
        "id": "5rAWuAGRX50j",
        "colab_type": "text"
      },
      "source": [
        "The result is not as good as the original one. I think the reason is that tfidf already computes the relative importance of each word so there' s no need to change the weights manually."
      ]
    },
    {
      "cell_type": "markdown",
      "metadata": {
        "id": "Y9bF_EVFBEc5",
        "colab_type": "text"
      },
      "source": [
        "### 6. Random Forest with adjectives (accuracy 0.4625)"
      ]
    },
    {
      "cell_type": "markdown",
      "metadata": {
        "id": "XnOa68gKztdI",
        "colab_type": "text"
      },
      "source": [
        "Adjectives are important for star ratings classification since words like \"good\", \"bad\", \"best\", \"terrible\" clearly indicate the preference of the users. As a result, I filtered out only adjectives and used them to predict star ratings."
      ]
    },
    {
      "cell_type": "markdown",
      "metadata": {
        "id": "ZGXOfjBJBNHZ",
        "colab_type": "text"
      },
      "source": [
        "###### Get adjectives"
      ]
    },
    {
      "cell_type": "code",
      "metadata": {
        "id": "5AUrYw3x8WcC",
        "colab_type": "code",
        "colab": {}
      },
      "source": [
        "def get_adj(docs):\n",
        "  adj_result=[]\n",
        "  for doc in docs:\n",
        "    wo=[]\n",
        "    words=[]\n",
        "    for tup in doc:\n",
        "      words.append(reviews_dict[tup[0]])\n",
        "    tag=nltk.pos_tag(words)\n",
        "    for i in range(len(tag)):\n",
        "      if tag[i][1]==\"JJ\":\n",
        "        wo.append(doc[i])\n",
        "    adj_result.append(wo)\n",
        "  return adj_result\n",
        "\n",
        "adj_docs=get_adj(result_doc)"
      ],
      "execution_count": 0,
      "outputs": []
    },
    {
      "cell_type": "markdown",
      "metadata": {
        "id": "SXLJq67g8rUu",
        "colab_type": "text"
      },
      "source": [
        "###### Train model"
      ]
    },
    {
      "cell_type": "code",
      "metadata": {
        "id": "BDN9tz_s8xC0",
        "colab_type": "code",
        "colab": {}
      },
      "source": [
        "from sklearn import metrics\n",
        "def evaluate_model_adj(X, review_times, y):\n",
        "    X = np.hstack((X, review_times))\n",
        "    X_train, X_test, y_train, y_test = ms.train_test_split(X, y, test_size=0.2, random_state = 1911)\n",
        "    rfor = RandomForestClassifier(n_estimators=70, random_state=1911)\n",
        "    rfor.fit(X_train, y_train)\n",
        "    pred=rfor.predict(X_test)\n",
        "    return metrics.accuracy_score(y_test, pred)\n",
        "\n",
        "def evaluate_cutoffs(X_orig, X_dict, X_times, y, cutoffs):\n",
        "    results = []\n",
        "    for cutoff in cutoffs:\n",
        "        np.random.seed(1911)\n",
        "        model=LsiModel(X_orig, num_topics=cutoff, id2word=X_dict)\n",
        "        trans=model[X_orig]   # right singular vectors\n",
        "        dense_trans=densify(trans, cutoff)\n",
        "        results.append(evaluate_model_adj(dense_trans, X_times, y))\n",
        "    return results"
      ],
      "execution_count": 0,
      "outputs": []
    },
    {
      "cell_type": "markdown",
      "metadata": {
        "id": "ID2_lyQghFTZ",
        "colab_type": "text"
      },
      "source": [
        "##### Result"
      ]
    },
    {
      "cell_type": "markdown",
      "metadata": {
        "id": "hovyUwvKhy4B",
        "colab_type": "text"
      },
      "source": [
        "The results are not ideal comparing to the baseline. I think this suggest that the model relies heavily on keywords like \"dog\", \"food\", \"baby\" and such. \n",
        "\n",
        "If we fit the model to predict a general dataset, the gerenalization will be very bad if the model relies on keywords of type of products too much."
      ]
    },
    {
      "cell_type": "code",
      "metadata": {
        "id": "MQxpKlmg85Fr",
        "colab_type": "code",
        "colab": {
          "base_uri": "https://localhost:8080/",
          "height": 34
        },
        "outputId": "eb211bc4-547b-43e1-f731-48f960b32ae0"
      },
      "source": [
        "results=evaluate_cutoffs(adj_docs, reviews_dict, reviews_times, y, range(60,61))\n",
        "display(results)"
      ],
      "execution_count": 63,
      "outputs": [
        {
          "output_type": "display_data",
          "data": {
            "text/plain": [
              "[0.4265]"
            ]
          },
          "metadata": {
            "tags": []
          }
        }
      ]
    },
    {
      "cell_type": "markdown",
      "metadata": {
        "id": "AOjHN1gc70WA",
        "colab_type": "text"
      },
      "source": [
        "### 7. Support Vector Machine (Accuracy 0.19945)"
      ]
    },
    {
      "cell_type": "markdown",
      "metadata": {
        "id": "mec6JTUraMYA",
        "colab_type": "text"
      },
      "source": [
        "I want to show that choosing the right classification model is important. \n",
        "\n",
        "Random Forest is intrinsically suited for multiclass problems, while SVM is intrinsically two-class. For multiclass problem we need to reduce it into multiple binary classification problems. \n",
        "\n",
        "As a result, since there are 5 classes, the result will be aroun 0.2."
      ]
    },
    {
      "cell_type": "markdown",
      "metadata": {
        "id": "zPuIA2wBfpuh",
        "colab_type": "text"
      },
      "source": [
        "##### Train model"
      ]
    },
    {
      "cell_type": "code",
      "metadata": {
        "id": "E9GoXiLk74Sx",
        "colab_type": "code",
        "colab": {}
      },
      "source": [
        "def evaluate_model_SVR(X, review_times, y):\n",
        "    X = np.hstack((X, review_times))\n",
        "    X_train, X_test, y_train, y_test = ms.train_test_split(X, y, test_size=0.2, random_state = 1911)\n",
        "    rfor = svm.LinearSVC()\n",
        "    rfor.fit(X_train, y_train)\n",
        "    pred=rfor.predict(X_test)\n",
        "    return metrics.accuracy_score(y_test, pred)\n",
        "\n",
        "# answer 3.2\n",
        "# TODO: Complete the function\n",
        "def evaluate_cutoffs(X_orig, X_dict, X_times, y, cutoffs):\n",
        "    results = []\n",
        "    for cutoff in cutoffs:\n",
        "        np.random.seed(1911)\n",
        "        model=LsiModel(X_orig, num_topics=cutoff, id2word=X_dict)\n",
        "        trans=model[X_orig]   # right singular vectors\n",
        "        dense_trans=densify(trans, cutoff)\n",
        "        results.append(evaluate_model_SVR(dense_trans, X_times, y))\n",
        "    return results"
      ],
      "execution_count": 0,
      "outputs": []
    },
    {
      "cell_type": "markdown",
      "metadata": {
        "id": "9vaozUPghMSm",
        "colab_type": "text"
      },
      "source": [
        "##### Result"
      ]
    },
    {
      "cell_type": "code",
      "metadata": {
        "id": "hTAE6UKH7_gZ",
        "colab_type": "code",
        "colab": {
          "base_uri": "https://localhost:8080/",
          "height": 87
        },
        "outputId": "8cc7bb55-c2a2-405a-8398-de53dd86b91d"
      },
      "source": [
        "results=evaluate_cutoffs(result_doc, reviews_dict, reviews_times, y, range(37,38))\n",
        "display(results)"
      ],
      "execution_count": 68,
      "outputs": [
        {
          "output_type": "stream",
          "text": [
            "/usr/local/lib/python3.6/dist-packages/sklearn/svm/base.py:929: ConvergenceWarning: Liblinear failed to converge, increase the number of iterations.\n",
            "  \"the number of iterations.\", ConvergenceWarning)\n"
          ],
          "name": "stderr"
        },
        {
          "output_type": "display_data",
          "data": {
            "text/plain": [
              "[0.19945]"
            ]
          },
          "metadata": {
            "tags": []
          }
        }
      ]
    },
    {
      "cell_type": "markdown",
      "metadata": {
        "id": "1Y3z83317lmK",
        "colab_type": "text"
      },
      "source": [
        "### 8. XGBoost (accuracy 0.792)"
      ]
    },
    {
      "cell_type": "markdown",
      "metadata": {
        "id": "hVIs6TCeZM9p",
        "colab_type": "text"
      },
      "source": [
        "XGBoost has many advantages:\n",
        "* XGBoost has in-built L1 and L2 regularization which prevents the model from overfitting, and thus is better other GBM (Gradient Boosting Machine).\n",
        "* A GBM would stop splitting a node when it encounters a negative loss in the split. Thus it is more of a greedy algorithm. XGBoost on the other hand make splits upto the max_depth specified and then start pruning the tree backwards and remove splits beyond which there is no positive gain.\n",
        "\n",
        "Given its advantages, I decided to use XGBoost as my classifier."
      ]
    },
    {
      "cell_type": "markdown",
      "metadata": {
        "id": "izyK8AjCdj5d",
        "colab_type": "text"
      },
      "source": [
        "##### Train model"
      ]
    },
    {
      "cell_type": "code",
      "metadata": {
        "id": "qXs6WnLi7pzt",
        "colab_type": "code",
        "colab": {}
      },
      "source": [
        "def evaluate_model_XG(X, review_times, y, learning_rate):\n",
        "    X = np.hstack((X, review_times))\n",
        "    X_train, X_test, y_train, y_test = ms.train_test_split(X, y, test_size=0.2, random_state = 1911)\n",
        "    rfor = XGBClassifier(random_state=1911, learning_rate=learning_rate)\n",
        "    rfor.fit(X_train, y_train)\n",
        "    pred=rfor.predict(X_test)\n",
        "    return metrics.accuracy_score(y_test, pred)\n",
        "\n",
        "def evaluate_cutoffs(X_orig, X_dict, X_times, y, cutoffs, learning_rate):\n",
        "    results = []\n",
        "    for cutoff in cutoffs:\n",
        "        np.random.seed(1911)\n",
        "        model=LsiModel(X_orig, num_topics=cutoff, id2word=X_dict)\n",
        "        trans=model[X_orig]   # right singular vectors\n",
        "        dense_trans=densify(trans, cutoff)\n",
        "        results.append(evaluate_model_XG(dense_trans, X_times, y, learning_rate))\n",
        "    return results"
      ],
      "execution_count": 0,
      "outputs": []
    },
    {
      "cell_type": "markdown",
      "metadata": {
        "id": "SwyX0QtzhJSS",
        "colab_type": "text"
      },
      "source": [
        "##### Result"
      ]
    },
    {
      "cell_type": "markdown",
      "metadata": {
        "id": "sn_GJFF-Z1Lq",
        "colab_type": "text"
      },
      "source": [
        "I tried learning rate of 0.1, 0.2 0.25, 0.3 to figure out the best learning rate and turns out it is 0.25. The result is not much different from Random Forest."
      ]
    },
    {
      "cell_type": "code",
      "metadata": {
        "id": "pE1ufkhD7wui",
        "colab_type": "code",
        "colab": {
          "base_uri": "https://localhost:8080/",
          "height": 84
        },
        "outputId": "359ad01e-0275-4c59-baba-ad47c88ee012"
      },
      "source": [
        "for learning_rate in [0.1, 0.2, 0.25, 0.3]:\n",
        "  results=evaluate_cutoffs(result_doc, reviews_dict, reviews_times, y, range(37,38), learning_rate)\n",
        "  display(results)"
      ],
      "execution_count": 66,
      "outputs": [
        {
          "output_type": "display_data",
          "data": {
            "text/plain": [
              "[0.7747]"
            ]
          },
          "metadata": {
            "tags": []
          }
        },
        {
          "output_type": "display_data",
          "data": {
            "text/plain": [
              "[0.7875]"
            ]
          },
          "metadata": {
            "tags": []
          }
        },
        {
          "output_type": "display_data",
          "data": {
            "text/plain": [
              "[0.7902]"
            ]
          },
          "metadata": {
            "tags": []
          }
        },
        {
          "output_type": "display_data",
          "data": {
            "text/plain": [
              "[0.792]"
            ]
          },
          "metadata": {
            "tags": []
          }
        }
      ]
    },
    {
      "cell_type": "markdown",
      "metadata": {
        "id": "cEFR6Hr2_aYG",
        "colab_type": "text"
      },
      "source": [
        "### 9. Multi-layer Perceptron (**Best Model**, accuracy 0.80055)"
      ]
    },
    {
      "cell_type": "markdown",
      "metadata": {
        "id": "-fhbZJ9JeMcZ",
        "colab_type": "text"
      },
      "source": [
        "Since the data is tabular, Random Forest would work well. Neural Network would work on any data type, so this should work well too."
      ]
    },
    {
      "cell_type": "markdown",
      "metadata": {
        "id": "-0cNvNQjgegU",
        "colab_type": "text"
      },
      "source": [
        "##### Train model"
      ]
    },
    {
      "cell_type": "code",
      "metadata": {
        "id": "2WN8JIO8_eOC",
        "colab_type": "code",
        "colab": {}
      },
      "source": [
        "def evaluate_model_MLP(X, review_times, y):\n",
        "    X = np.hstack((X, review_times))\n",
        "    X_train, X_test, y_train, y_test = ms.train_test_split(X, y, test_size=0.2, random_state = 1911)\n",
        "    scaler = StandardScaler() \n",
        "    scaler.fit(X_train)\n",
        "    X_train = scaler.transform(X_train)\n",
        "    X_test = scaler.transform(X_test)\n",
        "    rfor = MLPClassifier(hidden_layer_sizes=(10,))\n",
        "    rfor.fit(X_train, y_train)\n",
        "    pred=rfor.predict(X_test)\n",
        "    return metrics.accuracy_score(y_test, pred)\n",
        "\n",
        "def evaluate_cutoffs_MLP(X_orig, X_dict, X_times, y, cutoffs):\n",
        "    results = []\n",
        "    for cutoff in cutoffs:\n",
        "        np.random.seed(1911)\n",
        "        model=LsiModel(X_orig, num_topics=cutoff, id2word=X_dict)\n",
        "        trans=model[X_orig]   # right singular vectors\n",
        "        dense_trans=densify(trans, cutoff)\n",
        "        results.append(evaluate_model_MLP(dense_trans, X_times, y))\n",
        "    return results"
      ],
      "execution_count": 0,
      "outputs": []
    },
    {
      "cell_type": "markdown",
      "metadata": {
        "id": "XkrrOyL9hSax",
        "colab_type": "text"
      },
      "source": [
        "##### Result"
      ]
    },
    {
      "cell_type": "code",
      "metadata": {
        "id": "9GTDOzHl_iDh",
        "colab_type": "code",
        "colab": {
          "base_uri": "https://localhost:8080/",
          "height": 34
        },
        "outputId": "573daa9d-77f5-4533-c131-f9428f616dbe"
      },
      "source": [
        "results=evaluate_cutoffs_MLP(result_doc, reviews_dict, reviews_times, y, range(37,39))\n",
        "display(results)"
      ],
      "execution_count": 75,
      "outputs": [
        {
          "output_type": "display_data",
          "data": {
            "text/plain": [
              "[0.79775, 0.80055]"
            ]
          },
          "metadata": {
            "tags": []
          }
        }
      ]
    },
    {
      "cell_type": "markdown",
      "metadata": {
        "id": "d0TX3LjUq_Px",
        "colab_type": "text"
      },
      "source": [
        "### Linear Regression (accuracy 0.4549)"
      ]
    },
    {
      "cell_type": "markdown",
      "metadata": {
        "id": "W8B6MmhPajm5",
        "colab_type": "text"
      },
      "source": [
        "Although I don't think the results will be better, I wanted to see if this problem can be treated as a regrssion problem vs a classification problem."
      ]
    },
    {
      "cell_type": "markdown",
      "metadata": {
        "id": "_Bu2_V0Tgh4h",
        "colab_type": "text"
      },
      "source": [
        "##### Train model"
      ]
    },
    {
      "cell_type": "code",
      "metadata": {
        "id": "HuNXq4YXlccp",
        "colab_type": "code",
        "colab": {}
      },
      "source": [
        "from sklearn.linear_model import LinearRegression\n",
        "def evaluate_model_LR(X, review_times, y):\n",
        "    X = np.hstack((X, review_times))\n",
        "    X_train, X_test, y_train, y_test = ms.train_test_split(X, y, test_size=0.2, random_state = 1911)\n",
        "    lr = LinearRegression()\n",
        "    model = lr.fit(X_train, y_train)\n",
        "    y_pred = model.predict(X_test)\n",
        "    return model.score(X_test, y_test)\n",
        "\n",
        "\n",
        "def evaluate_cutoffs_LR(X_orig, X_dict, X_times, y, cutoffs):\n",
        "  results = []\n",
        "  for cutoff in cutoffs:\n",
        "    model = LsiModel(X_orig, num_topics = cutoff, id2word = X_dict)\n",
        "    projection = model[X_orig]\n",
        "    proj_dense = densify(projection, cutoff)\n",
        "    results.append(evaluate_model_LR(proj_dense, X_times, y))\n",
        "    np.random.seed(1911)\n",
        "  return results"
      ],
      "execution_count": 0,
      "outputs": []
    },
    {
      "cell_type": "markdown",
      "metadata": {
        "id": "34TQVlHzhV1p",
        "colab_type": "text"
      },
      "source": [
        "##### Result"
      ]
    },
    {
      "cell_type": "markdown",
      "metadata": {
        "id": "LMs6R99MgOm3",
        "colab_type": "text"
      },
      "source": [
        "This problem has better results if treated as a classification model."
      ]
    },
    {
      "cell_type": "code",
      "metadata": {
        "id": "wnLSouHKlf35",
        "colab_type": "code",
        "outputId": "bb68d072-38b9-4dfc-9a7b-90312adfff27",
        "colab": {
          "base_uri": "https://localhost:8080/",
          "height": 34
        }
      },
      "source": [
        "results=evaluate_cutoffs_LR(result_doc, reviews_dict, reviews_times, y, range(37,38))\n",
        "display(results)"
      ],
      "execution_count": 77,
      "outputs": [
        {
          "output_type": "display_data",
          "data": {
            "text/plain": [
              "[0.4549441351246157]"
            ]
          },
          "metadata": {
            "tags": []
          }
        }
      ]
    },
    {
      "cell_type": "markdown",
      "metadata": {
        "id": "kr1Guyeh877E",
        "colab_type": "text"
      },
      "source": [
        "### 11. Time Series"
      ]
    },
    {
      "cell_type": "markdown",
      "metadata": {
        "id": "vatdRxpRgsxq",
        "colab_type": "text"
      },
      "source": [
        "Since there might be a trend with timestamp that can help predict the star ratings, I chose to use time series to predict star ratings."
      ]
    },
    {
      "cell_type": "markdown",
      "metadata": {
        "id": "soSAwSFOiEqv",
        "colab_type": "text"
      },
      "source": [
        "##### Extract time and star ratings"
      ]
    },
    {
      "cell_type": "markdown",
      "metadata": {
        "id": "TrJVDZXFiHDZ",
        "colab_type": "text"
      },
      "source": [
        "Now we have a times series of timestamp and star ratings."
      ]
    },
    {
      "cell_type": "code",
      "metadata": {
        "id": "bHqzDz2MojJx",
        "colab_type": "code",
        "outputId": "620e90b8-9b48-4f93-8c62-a8235b8ce756",
        "colab": {
          "base_uri": "https://localhost:8080/",
          "height": 235
        }
      },
      "source": [
        "data_df=pd.DataFrame(list(zip(converted_times, y)))\n",
        "data_df.columns=['timestamp', 'star']\n",
        "ts=pd.Series(data_df['star'].values, index=data_df['timestamp'])\n",
        "ts"
      ],
      "execution_count": 78,
      "outputs": [
        {
          "output_type": "execute_result",
          "data": {
            "text/plain": [
              "timestamp\n",
              "2012-05-06    1\n",
              "2014-04-07    1\n",
              "2012-07-17    1\n",
              "2014-07-14    1\n",
              "2013-05-16    1\n",
              "             ..\n",
              "2013-04-04    5\n",
              "2010-09-21    5\n",
              "2013-05-12    5\n",
              "2013-03-05    5\n",
              "2012-07-27    5\n",
              "Length: 100000, dtype: int64"
            ]
          },
          "metadata": {
            "tags": []
          },
          "execution_count": 78
        }
      ]
    },
    {
      "cell_type": "markdown",
      "metadata": {
        "id": "VEBDSP4UilZ3",
        "colab_type": "text"
      },
      "source": [
        "##### Check Stationarity"
      ]
    },
    {
      "cell_type": "markdown",
      "metadata": {
        "id": "NXgMKq3oiprz",
        "colab_type": "text"
      },
      "source": [
        "Since most of the Time Series models work on the assumption that the Time Series is stationary, I checked if this data is stationary. \n"
      ]
    },
    {
      "cell_type": "markdown",
      "metadata": {
        "id": "qsF0AvNfjYmV",
        "colab_type": "text"
      },
      "source": [
        "First and foremost is to simple plot the data and analyze visually. I grouped the data by **month** to make the plot clearer. \n",
        "\n",
        "According to the plot, it is clearly evident that there is an overall increasing trend in the data."
      ]
    },
    {
      "cell_type": "code",
      "metadata": {
        "id": "wNeYkz1ElNct",
        "colab_type": "code",
        "outputId": "ad3bf54c-805b-40ff-b9f3-d4ad06528f55",
        "colab": {
          "base_uri": "https://localhost:8080/",
          "height": 300
        }
      },
      "source": [
        "ts_mean=ts.resample('M').mean()\n",
        "ts_mean\n",
        "ts_mean.plot()\n",
        "#it's not stationary"
      ],
      "execution_count": 79,
      "outputs": [
        {
          "output_type": "execute_result",
          "data": {
            "text/plain": [
              "<matplotlib.axes._subplots.AxesSubplot at 0x7fd9f7745860>"
            ]
          },
          "metadata": {
            "tags": []
          },
          "execution_count": 79
        },
        {
          "output_type": "display_data",
          "data": {
            "image/png": "[encoded data removed]",
            "text/plain": [
              "<Figure size 432x288 with 1 Axes>"
            ]
          },
          "metadata": {
            "tags": []
          }
        }
      ]
    },
    {
      "cell_type": "markdown",
      "metadata": {
        "id": "ffrbKGYCkS3q",
        "colab_type": "text"
      },
      "source": [
        "However, it might not always be possible to make such visual inferences. So, more formally, I decided to check stationarity using Dickey-Fuller Test.\n",
        "\n",
        "Here the null hypothesis is that the Time Series is non-stationary. The test results comprise of a Test Statistic and some Critical Values for difference confidence levels. If the ‘Test Statistic’ is less than the ‘Critical Value’, we can reject the null hypothesis and say that the series is stationary.\n",
        "\n",
        "I applied Dickey-Fuller test results on the original time series dataset and drew the rolling statistics plots with the times series grouped by year."
      ]
    },
    {
      "cell_type": "code",
      "metadata": {
        "id": "aL10wnmM12B2",
        "colab_type": "code",
        "colab": {}
      },
      "source": [
        "def plot_stationary(timeseries):\n",
        "  rolmean=pd.Series.rolling(timeseries, center=False, window=2).mean()\n",
        "  rolstd=pd.Series.rolling(timeseries, center=False, window=2).std()\n",
        "  orig=plt.plot(timeseries, color='blue', label='Original')\n",
        "  mean=plt.plot(rolmean, color='red', label='Rolling Mean')\n",
        "  std=plt.plot(rolstd, color='black', label='Rolling Std')\n",
        "  plt.legend(loc='best')\n",
        "  plt.title('Rolling Mean & Standard Deviation')\n",
        "  plt.show(block=False)\n",
        "\n",
        "def test_stationarity(timeseries):\n",
        "  print('Results of Dickey-Fuller Test: ')\n",
        "  dftest=adfuller(timeseries, autolag='AIC')\n",
        "  dfoutput=pd.Series(dftest[0:4], \n",
        "                   index=['Test Statistic', 'p-value', '#Lags Used','Number of Obervations Used'])\n",
        "  for key, value in dftest[4].items():\n",
        "    dfoutput['Critical Value (%s)'% key]=value\n",
        "  print(dfoutput)"
      ],
      "execution_count": 0,
      "outputs": []
    },
    {
      "cell_type": "markdown",
      "metadata": {
        "id": "9yNl7tmZljQf",
        "colab_type": "text"
      },
      "source": [
        "Though the variation in standard deviation is small, mean is clearly increasing with time and this is not a stationary series. "
      ]
    },
    {
      "cell_type": "code",
      "metadata": {
        "id": "Tml1RvEf1zs-",
        "colab_type": "code",
        "outputId": "8b1f359f-cec9-4d0e-cdc2-8b85c2ca3b0a",
        "colab": {
          "base_uri": "https://localhost:8080/",
          "height": 432
        }
      },
      "source": [
        "plot_stationary(ts_mean)\n",
        "test_stationarity(ts)"
      ],
      "execution_count": 81,
      "outputs": [
        {
          "output_type": "display_data",
          "data": {
            "image/png": "[encoded data removed]",
            "text/plain": [
              "<Figure size 432x288 with 1 Axes>"
            ]
          },
          "metadata": {
            "tags": []
          }
        },
        {
          "output_type": "stream",
          "text": [
            "Results of Dickey-Fuller Test: \n",
            "Test Statistic                   -0.707091\n",
            "p-value                           0.844904\n",
            "#Lags Used                        0.000000\n",
            "Number of Obervations Used    99999.000000\n",
            "Critical Value (1%)              -3.430415\n",
            "Critical Value (5%)              -2.861569\n",
            "Critical Value (10%)             -2.566785\n",
            "dtype: float64\n"
          ],
          "name": "stdout"
        }
      ]
    },
    {
      "cell_type": "markdown",
      "metadata": {
        "id": "hVQBCDHF3PZx",
        "colab_type": "text"
      },
      "source": [
        "We cannot reject the null hypothesis (non-stationary) since p value>0.05.\n",
        "Thus is is probabily a non-stationary series."
      ]
    },
    {
      "cell_type": "markdown",
      "metadata": {
        "id": "Pnu1SaRQjRB1",
        "colab_type": "text"
      },
      "source": [
        "##### Make the time series stationary"
      ]
    },
    {
      "cell_type": "markdown",
      "metadata": {
        "id": "km07oA9jjaz7",
        "colab_type": "text"
      },
      "source": [
        "Before we apply any model to predict star ratings, we need to make the time series stationary. While there are many options to achieve the result, I began by choosing to transform the time series by **taking log**, which penalizes higher values more than smaller ones.\n"
      ]
    },
    {
      "cell_type": "code",
      "metadata": {
        "id": "AOmcWUrHkfx4",
        "colab_type": "code",
        "colab": {
          "base_uri": "https://localhost:8080/",
          "height": 296
        },
        "outputId": "bbd6a3b5-7f2d-4f7a-f0f1-9d23f9c61e33"
      },
      "source": [
        "ts_log=np.log(ts)\n",
        "ts_log_mean=ts_log.resample('M').mean()\n",
        "ts_log_mean.plot()"
      ],
      "execution_count": 82,
      "outputs": [
        {
          "output_type": "execute_result",
          "data": {
            "text/plain": [
              "<matplotlib.axes._subplots.AxesSubplot at 0x7fd9f381a080>"
            ]
          },
          "metadata": {
            "tags": []
          },
          "execution_count": 82
        },
        {
          "output_type": "display_data",
          "data": {
            "image/png": "[encoded data removed]",
            "text/plain": [
              "<Figure size 432x288 with 1 Axes>"
            ]
          },
          "metadata": {
            "tags": []
          }
        }
      ]
    },
    {
      "cell_type": "markdown",
      "metadata": {
        "id": "IrglaphDnwSE",
        "colab_type": "text"
      },
      "source": [
        "Taking log doesn't seem to make the time series stationary. To furthur confirm, I applied the Dickey-Fuller test."
      ]
    },
    {
      "cell_type": "code",
      "metadata": {
        "id": "QR4gyJ_alex4",
        "colab_type": "code",
        "colab": {
          "base_uri": "https://localhost:8080/",
          "height": 432
        },
        "outputId": "d4dbb777-4e88-425c-85fc-2268a10b4700"
      },
      "source": [
        "plot_stationary(ts_log_mean)\n",
        "test_stationarity(ts_log)"
      ],
      "execution_count": 83,
      "outputs": [
        {
          "output_type": "display_data",
          "data": {
            "image/png": "[encoded data removed]",
            "text/plain": [
              "<Figure size 432x288 with 1 Axes>"
            ]
          },
          "metadata": {
            "tags": []
          }
        },
        {
          "output_type": "stream",
          "text": [
            "Results of Dickey-Fuller Test: \n",
            "Test Statistic                   -1.266204\n",
            "p-value                           0.644489\n",
            "#Lags Used                        0.000000\n",
            "Number of Obervations Used    99999.000000\n",
            "Critical Value (1%)              -3.430415\n",
            "Critical Value (5%)              -2.861569\n",
            "Critical Value (10%)             -2.566785\n",
            "dtype: float64\n"
          ],
          "name": "stdout"
        }
      ]
    },
    {
      "cell_type": "markdown",
      "metadata": {
        "id": "L7Scv8Bgn_rh",
        "colab_type": "text"
      },
      "source": [
        "The time series is not stationary yet. Thus, I took the difference with a particular time lag by using **moving average** on log time series.\n"
      ]
    },
    {
      "cell_type": "code",
      "metadata": {
        "id": "rPgBkqDDodcZ",
        "colab_type": "code",
        "colab": {
          "base_uri": "https://localhost:8080/",
          "height": 282
        },
        "outputId": "545e731c-9277-4d45-c885-645b9dfc803f"
      },
      "source": [
        "moving_avg=pd.Series.rolling(ts_log, center=False, window=30).mean()\n",
        "ts_log_moving_avg_diff=ts_log-moving_avg\n",
        "ts_log_moving_avg_diff.dropna(inplace=True)\n",
        "ts_log_moving_avg_diff_mean=ts_log_moving_avg_diff.resample('M').mean()\n",
        "plt.plot(ts_log_mean)\n",
        "plt.plot(ts_log_moving_avg_diff_mean, color='red')"
      ],
      "execution_count": 84,
      "outputs": [
        {
          "output_type": "execute_result",
          "data": {
            "text/plain": [
              "[<matplotlib.lines.Line2D at 0x7fd9ceabf898>]"
            ]
          },
          "metadata": {
            "tags": []
          },
          "execution_count": 84
        },
        {
          "output_type": "display_data",
          "data": {
            "image/png": "[encoded data removed]",
            "text/plain": [
              "<Figure size 432x288 with 1 Axes>"
            ]
          },
          "metadata": {
            "tags": []
          }
        }
      ]
    },
    {
      "cell_type": "markdown",
      "metadata": {
        "id": "6I_9Rr_FrO1B",
        "colab_type": "text"
      },
      "source": [
        "Comparing with log time series, log moving average difference time series seems much more stationary. To confirm, I applied the test."
      ]
    },
    {
      "cell_type": "code",
      "metadata": {
        "id": "98-egLD0pDTf",
        "colab_type": "code",
        "colab": {
          "base_uri": "https://localhost:8080/",
          "height": 432
        },
        "outputId": "3adde559-0adc-4851-e14d-81aa71f06df7"
      },
      "source": [
        "plot_stationary(ts_log_moving_avg_diff_mean)\n",
        "test_stationarity(ts_log_moving_avg_diff)"
      ],
      "execution_count": 85,
      "outputs": [
        {
          "output_type": "display_data",
          "data": {
            "image/png": "[encoded data removed]",
            "text/plain": [
              "<Figure size 432x288 with 1 Axes>"
            ]
          },
          "metadata": {
            "tags": []
          }
        },
        {
          "output_type": "stream",
          "text": [
            "Results of Dickey-Fuller Test: \n",
            "Test Statistic                  -42.391480\n",
            "p-value                           0.000000\n",
            "#Lags Used                       35.000000\n",
            "Number of Obervations Used    99935.000000\n",
            "Critical Value (1%)              -3.430415\n",
            "Critical Value (5%)              -2.861569\n",
            "Critical Value (10%)             -2.566785\n",
            "dtype: float64\n"
          ],
          "name": "stdout"
        }
      ]
    },
    {
      "cell_type": "markdown",
      "metadata": {
        "id": "kl7rZQB2pPXp",
        "colab_type": "text"
      },
      "source": [
        "We can reject the null hypothesis that the time series is not stationary with a p-value <0.005. **ts_log_moving_avg_diff** is **stationary**. Just for comparison, I tried another method to make the time series stationary- **Exponentially weighted moving average**."
      ]
    },
    {
      "cell_type": "code",
      "metadata": {
        "id": "KmAR_PkxpsGI",
        "colab_type": "code",
        "colab": {
          "base_uri": "https://localhost:8080/",
          "height": 282
        },
        "outputId": "c18257dc-173d-4329-ecbc-bfe85229d910"
      },
      "source": [
        "expweighted_avg=pd.Series.ewm(ts_log, ignore_na=False,\n",
        "                              adjust=True, halflife=12, min_periods=0).mean()\n",
        "ts_log_ewma_diff=ts_log-expweighted_avg\n",
        "ts_log_ewma_diff_mean=ts_log_ewma_diff.resample('M').mean()\n",
        "plt.plot(ts_log_mean)\n",
        "plt.plot(ts_log_ewma_diff_mean, color='red')"
      ],
      "execution_count": 86,
      "outputs": [
        {
          "output_type": "execute_result",
          "data": {
            "text/plain": [
              "[<matplotlib.lines.Line2D at 0x7fd9cdf1f780>]"
            ]
          },
          "metadata": {
            "tags": []
          },
          "execution_count": 86
        },
        {
          "output_type": "display_data",
          "data": {
            "image/png": "[encoded data removed]",
            "text/plain": [
              "<Figure size 432x288 with 1 Axes>"
            ]
          },
          "metadata": {
            "tags": []
          }
        }
      ]
    },
    {
      "cell_type": "code",
      "metadata": {
        "id": "VsyunU9uqygP",
        "colab_type": "code",
        "colab": {
          "base_uri": "https://localhost:8080/",
          "height": 432
        },
        "outputId": "2ead3fd3-e0b5-498e-a979-af326b5f8f2b"
      },
      "source": [
        "plot_stationary(ts_log_ewma_diff_mean)\n",
        "test_stationarity(ts_log_ewma_diff)"
      ],
      "execution_count": 87,
      "outputs": [
        {
          "output_type": "display_data",
          "data": {
            "image/png": "[encoded data removed]",
            "text/plain": [
              "<Figure size 432x288 with 1 Axes>"
            ]
          },
          "metadata": {
            "tags": []
          }
        },
        {
          "output_type": "stream",
          "text": [
            "Results of Dickey-Fuller Test: \n",
            "Test Statistic                  -53.764822\n",
            "p-value                           0.000000\n",
            "#Lags Used                        0.000000\n",
            "Number of Obervations Used    99999.000000\n",
            "Critical Value (1%)              -3.430415\n",
            "Critical Value (5%)              -2.861569\n",
            "Critical Value (10%)             -2.566785\n",
            "dtype: float64\n"
          ],
          "name": "stdout"
        }
      ]
    },
    {
      "cell_type": "markdown",
      "metadata": {
        "id": "ti5InJ3Jrzd7",
        "colab_type": "text"
      },
      "source": [
        "Exponentially weighted moving average is again stationary. "
      ]
    },
    {
      "cell_type": "markdown",
      "metadata": {
        "id": "Fl-mP19IfszV",
        "colab_type": "text"
      },
      "source": [
        "##### Finding p, d, q for ARIMA model"
      ]
    },
    {
      "cell_type": "markdown",
      "metadata": {
        "id": "ldtZBa-rfQkW",
        "colab_type": "text"
      },
      "source": [
        "Since we now have stationary time series, it is time to perform Autoregressive Integrated Moving Average (**ARIMA**) model. **ARIMA** can be interpreted as \n",
        "\n",
        "* **AR**: Autoregression. A model that uses the dependent relationship between an observation and some number of lagged observations.\n",
        "\n",
        "* **I**: Integrated. The use of differencing of raw observations (e.g. subtracting an observation from an observation at the previous time step) in order to make the time series stationary.\n",
        "\n",
        "* ***MA***: Moving Average. A model that uses the dependency between an observation and a residual error from a moving average model applied to lagged observations.\n"
      ]
    },
    {
      "cell_type": "markdown",
      "metadata": {
        "id": "tiH6XhkYtXeU",
        "colab_type": "text"
      },
      "source": [
        "But before using the ARIMA model, we need to find the value of **p, d, q**.\n",
        "\n",
        "\n",
        "*   **p** is the number of lag observations included in the model, also called the lag order.\n",
        "*   **d** is the number of times that the raw observations are differenced, also called the degree of differencing.\n",
        "*   **q** is the size of the moving average window, also called the order of moving average.\n",
        "\n"
      ]
    },
    {
      "cell_type": "code",
      "metadata": {
        "id": "BKFXtrpAzlOI",
        "colab_type": "code",
        "colab": {
          "base_uri": "https://localhost:8080/",
          "height": 300
        },
        "outputId": "46d72c8e-bbc6-4b4a-bada-08a6c96a19d0"
      },
      "source": [
        "curr=ts.resample(\"Y\").mean()\n",
        "autocorrelation_plot(curr)"
      ],
      "execution_count": 88,
      "outputs": [
        {
          "output_type": "execute_result",
          "data": {
            "text/plain": [
              "<matplotlib.axes._subplots.AxesSubplot at 0x7fd9f7678a20>"
            ]
          },
          "metadata": {
            "tags": []
          },
          "execution_count": 88
        },
        {
          "output_type": "display_data",
          "data": {
            "image/png": "[encoded data removed]",
            "text/plain": [
              "<Figure size 432x288 with 1 Axes>"
            ]
          },
          "metadata": {
            "tags": []
          }
        }
      ]
    },
    {
      "cell_type": "markdown",
      "metadata": {
        "id": "pwI3h-A6JAfY",
        "colab_type": "text"
      },
      "source": [
        "When lag is approximatly 1, the upper confidence interval is crossed. Thus **p is 1**."
      ]
    },
    {
      "cell_type": "code",
      "metadata": {
        "id": "nZtbVCC414gH",
        "colab_type": "code",
        "colab": {
          "base_uri": "https://localhost:8080/",
          "height": 598
        },
        "outputId": "404686f2-6e67-4698-e661-cbf321c6c6b5"
      },
      "source": [
        "ts_year=ts.resample(\"Y\").mean()\n",
        "plot_pacf(ts_year, lags=10)"
      ],
      "execution_count": 117,
      "outputs": [
        {
          "output_type": "stream",
          "text": [
            "/usr/local/lib/python3.6/dist-packages/statsmodels/regression/linear_model.py:1358: RuntimeWarning: invalid value encountered in sqrt\n",
            "  return rho, np.sqrt(sigmasq)\n"
          ],
          "name": "stderr"
        },
        {
          "output_type": "execute_result",
          "data": {
            "image/png": "[encoded data removed]",
            "text/plain": [
              "<Figure size 432x288 with 1 Axes>"
            ]
          },
          "metadata": {
            "tags": []
          },
          "execution_count": 117
        },
        {
          "output_type": "display_data",
          "data": {
            "image/png": "[encoded data removed]",
            "text/plain": [
              "<Figure size 432x288 with 1 Axes>"
            ]
          },
          "metadata": {
            "tags": []
          }
        }
      ]
    },
    {
      "cell_type": "markdown",
      "metadata": {
        "id": "tujec9S2JRqx",
        "colab_type": "text"
      },
      "source": [
        "Since there are around 4 lags, **q=4**."
      ]
    },
    {
      "cell_type": "markdown",
      "metadata": {
        "id": "YyIVqsv9yT59",
        "colab_type": "text"
      },
      "source": [
        "**d=1** since data is differentiated twice to be stationary."
      ]
    },
    {
      "cell_type": "markdown",
      "metadata": {
        "id": "O6Z4Efo_sK1t",
        "colab_type": "text"
      },
      "source": [
        "##### Make predictions"
      ]
    },
    {
      "cell_type": "markdown",
      "metadata": {
        "id": "WHW-81ncR6nU",
        "colab_type": "text"
      },
      "source": [
        "I tried to run the model with order (1,1,2), but the result is not stationary. As a result, I ran the ARIMA model with order=(1, 1, 0).\n",
        "\n"
      ]
    },
    {
      "cell_type": "code",
      "metadata": {
        "id": "NI_MXFGl8hsD",
        "colab_type": "code",
        "colab": {
          "base_uri": "https://localhost:8080/",
          "height": 474
        },
        "outputId": "eae6da83-b7a9-40a9-f976-9e8199da3987"
      },
      "source": [
        "model=ARIMA(ts_log, order=(1,1,0))\n",
        "results_AR=model.fit(disp=-1)\n",
        "print(results_AR.summary())"
      ],
      "execution_count": 122,
      "outputs": [
        {
          "output_type": "stream",
          "text": [
            "/usr/local/lib/python3.6/dist-packages/statsmodels/tsa/base/tsa_model.py:219: ValueWarning: A date index has been provided, but it has no associated frequency information and so will be ignored when e.g. forecasting.\n",
            "  ' ignored when e.g. forecasting.', ValueWarning)\n",
            "/usr/local/lib/python3.6/dist-packages/statsmodels/tsa/base/tsa_model.py:219: ValueWarning: A date index has been provided, but it has no associated frequency information and so will be ignored when e.g. forecasting.\n",
            "  ' ignored when e.g. forecasting.', ValueWarning)\n",
            "/usr/local/lib/python3.6/dist-packages/statsmodels/base/model.py:512: ConvergenceWarning: Maximum Likelihood optimization failed to converge. Check mle_retvals\n",
            "  \"Check mle_retvals\", ConvergenceWarning)\n"
          ],
          "name": "stderr"
        },
        {
          "output_type": "stream",
          "text": [
            "                             ARIMA Model Results                              \n",
            "==============================================================================\n",
            "Dep. Variable:                    D.y   No. Observations:                99999\n",
            "Model:                 ARIMA(1, 1, 0)   Log Likelihood              446338.558\n",
            "Method:                       css-mle   S.D. of innovations              0.003\n",
            "Date:                Wed, 11 Dec 2019   AIC                        -892671.115\n",
            "Time:                        21:58:05   BIC                        -892642.576\n",
            "Sample:                             1   HQIC                       -892662.454\n",
            "                                                                              \n",
            "==============================================================================\n",
            "                 coef    std err          z      P>|z|      [0.025      0.975]\n",
            "------------------------------------------------------------------------------\n",
            "const       1.609e-05   8.82e-06      1.825      0.068   -1.19e-06    3.34e-05\n",
            "ar.L1.D.y  -3.332e-05      0.003     -0.011      0.992      -0.006       0.006\n",
            "                                    Roots                                    \n",
            "=============================================================================\n",
            "                  Real          Imaginary           Modulus         Frequency\n",
            "-----------------------------------------------------------------------------\n",
            "AR.1       -30010.5257           +0.0000j        30010.5257            0.5000\n",
            "-----------------------------------------------------------------------------\n"
          ],
          "name": "stdout"
        }
      ]
    },
    {
      "cell_type": "code",
      "metadata": {
        "id": "SF-c0_nY3RhU",
        "colab_type": "code",
        "colab": {
          "base_uri": "https://localhost:8080/",
          "height": 298
        },
        "outputId": "f7dc0721-e1c5-4234-bbed-b38323f2ab72"
      },
      "source": [
        "plt.plot(ts_log_moving_avg_diff.resample('M').mean())\n",
        "plt.plot(results_AR.fittedvalues.resample('M').mean(), color='red')\n",
        "plt.title('RSS: %.4f' % sum(results_AR.fittedvalues-ts_log_moving_avg_diff)**2)"
      ],
      "execution_count": 123,
      "outputs": [
        {
          "output_type": "execute_result",
          "data": {
            "text/plain": [
              "Text(0.5, 1.0, 'RSS: 3471638.7127')"
            ]
          },
          "metadata": {
            "tags": []
          },
          "execution_count": 123
        },
        {
          "output_type": "display_data",
          "data": {
            "image/png": "[encoded data removed]",
            "text/plain": [
              "<Figure size 432x288 with 1 Axes>"
            ]
          },
          "metadata": {
            "tags": []
          }
        }
      ]
    },
    {
      "cell_type": "markdown",
      "metadata": {
        "id": "2HdnmqNflVVC",
        "colab_type": "text"
      },
      "source": [
        "Taking values back to original scale to see how well we are forecasting."
      ]
    },
    {
      "cell_type": "code",
      "metadata": {
        "id": "Kx7K2SYU_L29",
        "colab_type": "code",
        "colab": {
          "base_uri": "https://localhost:8080/",
          "height": 134
        },
        "outputId": "b21009cc-1daf-48cf-eb44-11bf63051131"
      },
      "source": [
        "predictions_ARIMA_diff=pd.Series(results_AR.fittedvalues, copy=True)\n",
        "predictions_ARIMA_diff.head()"
      ],
      "execution_count": 124,
      "outputs": [
        {
          "output_type": "execute_result",
          "data": {
            "text/plain": [
              "timestamp\n",
              "2014-04-07    0.000016\n",
              "2012-07-17    0.000016\n",
              "2014-07-14    0.000016\n",
              "2013-05-16    0.000016\n",
              "2013-06-17    0.000016\n",
              "dtype: float64"
            ]
          },
          "metadata": {
            "tags": []
          },
          "execution_count": 124
        }
      ]
    },
    {
      "cell_type": "markdown",
      "metadata": {
        "id": "Xrc_doudnVSE",
        "colab_type": "text"
      },
      "source": [
        "Take cumulative sum as index"
      ]
    },
    {
      "cell_type": "code",
      "metadata": {
        "id": "u6pxpZ12_tmQ",
        "colab_type": "code",
        "colab": {
          "base_uri": "https://localhost:8080/",
          "height": 134
        },
        "outputId": "cd0fcb63-0d49-44bd-b6e8-1e62e7310db3"
      },
      "source": [
        "predictions_ARIMA_diff_cumsum=predictions_ARIMA_diff.cumsum()\n",
        "predictions_ARIMA_diff_cumsum.head()"
      ],
      "execution_count": 125,
      "outputs": [
        {
          "output_type": "execute_result",
          "data": {
            "text/plain": [
              "timestamp\n",
              "2014-04-07    0.000016\n",
              "2012-07-17    0.000032\n",
              "2014-07-14    0.000048\n",
              "2013-05-16    0.000064\n",
              "2013-06-17    0.000080\n",
              "dtype: float64"
            ]
          },
          "metadata": {
            "tags": []
          },
          "execution_count": 125
        }
      ]
    },
    {
      "cell_type": "markdown",
      "metadata": {
        "id": "0TjQmxgGnbjR",
        "colab_type": "text"
      },
      "source": [
        "Add to ts_log, taking index position differences into account"
      ]
    },
    {
      "cell_type": "code",
      "metadata": {
        "id": "ViWlXMCg_0cb",
        "colab_type": "code",
        "colab": {
          "base_uri": "https://localhost:8080/",
          "height": 269
        },
        "outputId": "203a803d-6477-492a-8769-cb0289f4af80"
      },
      "source": [
        "predictions_ARIMA_log=pd.Series(ts_log.ix[0], index=ts_log.index)\n",
        "predictions_ARIMA_log.head()"
      ],
      "execution_count": 126,
      "outputs": [
        {
          "output_type": "stream",
          "text": [
            "/usr/local/lib/python3.6/dist-packages/ipykernel_launcher.py:1: FutureWarning: \n",
            ".ix is deprecated. Please use\n",
            ".loc for label based indexing or\n",
            ".iloc for positional indexing\n",
            "\n",
            "See the documentation here:\n",
            "http://pandas.pydata.org/pandas-docs/stable/user_guide/indexing.html#ix-indexer-is-deprecated\n",
            "  \"\"\"Entry point for launching an IPython kernel.\n"
          ],
          "name": "stderr"
        },
        {
          "output_type": "execute_result",
          "data": {
            "text/plain": [
              "timestamp\n",
              "2012-05-06    0.0\n",
              "2014-04-07    0.0\n",
              "2012-07-17    0.0\n",
              "2014-07-14    0.0\n",
              "2013-05-16    0.0\n",
              "dtype: float64"
            ]
          },
          "metadata": {
            "tags": []
          },
          "execution_count": 126
        }
      ]
    },
    {
      "cell_type": "code",
      "metadata": {
        "id": "VCrZTyx-_9j6",
        "colab_type": "code",
        "colab": {
          "base_uri": "https://localhost:8080/",
          "height": 134
        },
        "outputId": "11c33e4e-a389-4ff8-c89f-fa47b71a1861"
      },
      "source": [
        "predictions_ARIMA_log=predictions_ARIMA_log.add(predictions_ARIMA_diff_cumsum, fill_value=0)\n",
        "predictions_ARIMA_log.head()"
      ],
      "execution_count": 127,
      "outputs": [
        {
          "output_type": "execute_result",
          "data": {
            "text/plain": [
              "timestamp\n",
              "2001-07-17    0.556169\n",
              "2001-07-25    0.530289\n",
              "2001-08-24    0.426686\n",
              "2002-01-01    1.577056\n",
              "2002-01-05    0.081456\n",
              "dtype: float64"
            ]
          },
          "metadata": {
            "tags": []
          },
          "execution_count": 127
        }
      ]
    },
    {
      "cell_type": "markdown",
      "metadata": {
        "id": "pEEdy0fhnlgj",
        "colab_type": "text"
      },
      "source": [
        "Take the exponent and compare with the original series"
      ]
    },
    {
      "cell_type": "code",
      "metadata": {
        "id": "L_pG0c35AJ4z",
        "colab_type": "code",
        "colab": {
          "base_uri": "https://localhost:8080/",
          "height": 282
        },
        "outputId": "5905dbb3-61a0-4468-cb34-bb7e042a8a5c"
      },
      "source": [
        "predictions_ARIMA=np.exp(predictions_ARIMA_log)\n",
        "plt.plot(ts_mean)\n",
        "plt.plot(predictions_ARIMA.resample('M').mean())"
      ],
      "execution_count": 128,
      "outputs": [
        {
          "output_type": "execute_result",
          "data": {
            "text/plain": [
              "[<matplotlib.lines.Line2D at 0x7fd9f12d2278>]"
            ]
          },
          "metadata": {
            "tags": []
          },
          "execution_count": 128
        },
        {
          "output_type": "display_data",
          "data": {
            "image/png": "[encoded data removed]",
            "text/plain": [
              "<Figure size 432x288 with 1 Axes>"
            ]
          },
          "metadata": {
            "tags": []
          }
        }
      ]
    }
  ]
}